{
 "cells": [
  {
   "cell_type": "code",
   "execution_count": 1,
   "metadata": {},
   "outputs": [
    {
     "name": "stderr",
     "output_type": "stream",
     "text": [
      "C:\\ProgramData\\Anaconda3\\lib\\site-packages\\h5py\\__init__.py:34: FutureWarning: Conversion of the second argument of issubdtype from `float` to `np.floating` is deprecated. In future, it will be treated as `np.float64 == np.dtype(float).type`.\n",
      "  from ._conv import register_converters as _register_converters\n",
      "Using TensorFlow backend.\n"
     ]
    }
   ],
   "source": [
    "import re\n",
    "from keras.models import Sequential\n",
    "from keras.layers import Dense, Activation\n",
    "from keras.layers import Conv1D\n",
    "from keras.optimizers import Adamax\n",
    "\n",
    "import numpy as np\n",
    "import random\n",
    "import sys\n",
    "import io\n",
    "import pandas as pd"
   ]
  },
  {
   "cell_type": "code",
   "execution_count": null,
   "metadata": {
    "scrolled": true
   },
   "outputs": [],
   "source": [
    "ghazals=pd.read_excel('urdu/faiz/ghazals.xlsx')\n",
    "ghazals=ghazals.reset_index()\n",
    "del ghazals['index']\n",
    "ghazals"
   ]
  },
  {
   "cell_type": "code",
   "execution_count": 3,
   "metadata": {
    "collapsed": true
   },
   "outputs": [],
   "source": [
    "#Because i want it to be purly urdu so i'll delete all the nazam's with english\n",
    "\n",
    "ghazals_pruned=pd.DataFrame(columns=list(['title','text']))\n",
    "for counter,i in enumerate(ghazals['text']):\n",
    "    if(re.search('[a-zA-Z]', i))==None:\n",
    "        df = pd.DataFrame([[ghazals['title'][counter], i]],columns=list(['title','text']))\n",
    "        ghazals_pruned=ghazals_pruned.append(df, ignore_index=True)"
   ]
  },
  {
   "cell_type": "code",
   "execution_count": 4,
   "metadata": {},
   "outputs": [
    {
     "name": "stdout",
     "output_type": "stream",
     "text": [
      "Longest line in the literature 63\n"
     ]
    }
   ],
   "source": [
    "#Finding the longest line in literature\n",
    "longest=0\n",
    "for i in ghazals_pruned['text']:\n",
    "    #Finding the longest line in the literature\n",
    "    for j in i.split('\\n'):\n",
    "        if longest<len(j):\n",
    "            longest=len(j)\n",
    "print(\"Longest line in the literature\",longest)"
   ]
  },
  {
   "cell_type": "code",
   "execution_count": 5,
   "metadata": {},
   "outputs": [
    {
     "name": "stdout",
     "output_type": "stream",
     "text": [
      "Length of the literature: 36245\n"
     ]
    }
   ],
   "source": [
    "text=''\n",
    "for i in ghazals_pruned['text']:\n",
    "    #Creating the dataset\n",
    "    text=text+i\n",
    "print(\"Length of the literature:\",len(text))"
   ]
  },
  {
   "cell_type": "code",
   "execution_count": 6,
   "metadata": {
    "collapsed": true
   },
   "outputs": [],
   "source": [
    "new_text=''\n",
    "for i in ghazals_pruned['text']:\n",
    "    #Finding the longest line in the literature\n",
    "    for j in i.split('\\n'):\n",
    "        if(len(j)<=2):\n",
    "            continue\n",
    "        j=j.strip()\n",
    "        j=j.ljust(longest-1, ' ')\n",
    "        j=j+'\\n'\n",
    "        new_text=new_text+j\n",
    "ghazals_final=new_text"
   ]
  },
  {
   "cell_type": "code",
   "execution_count": 7,
   "metadata": {
    "collapsed": true
   },
   "outputs": [],
   "source": [
    "ghazals_final = ghazals_final.replace(\"'\", \"\")"
   ]
  },
  {
   "cell_type": "code",
   "execution_count": null,
   "metadata": {
    "scrolled": true
   },
   "outputs": [],
   "source": [
    "nazams=pd.read_excel('urdu/faiz/nazams.xlsx')\n",
    "nazams=nazams.reset_index()\n",
    "del nazams['index']\n",
    "nazams"
   ]
  },
  {
   "cell_type": "code",
   "execution_count": 9,
   "metadata": {
    "collapsed": true
   },
   "outputs": [],
   "source": [
    "#Because i want it to be purly urdu so i'll delete all the nazam's with english\n",
    "\n",
    "nazams_pruned=pd.DataFrame(columns=list(['title','text']))\n",
    "for counter,i in enumerate(nazams['text']):\n",
    "    if(re.search('[a-zA-Z]', i))==None:\n",
    "        df = pd.DataFrame([[nazams['title'][counter], i]],columns=list(['title','text']))\n",
    "        nazams_pruned=nazams_pruned.append(df, ignore_index=True)"
   ]
  },
  {
   "cell_type": "code",
   "execution_count": null,
   "metadata": {
    "scrolled": true
   },
   "outputs": [],
   "source": [
    "nazams_pruned"
   ]
  },
  {
   "cell_type": "code",
   "execution_count": 11,
   "metadata": {
    "collapsed": true
   },
   "outputs": [],
   "source": [
    "#Finding the longest line in literature\n",
    "# longest=0\n",
    "# for i in nazams_pruned['text']:\n",
    "#     #Finding the longest line in the literature\n",
    "#     for j in i.split('\\n'):\n",
    "#         if longest<len(j):\n",
    "#             longest=len(j)\n",
    "# print(\"Longest line in the literature\",longest)"
   ]
  },
  {
   "cell_type": "code",
   "execution_count": 12,
   "metadata": {},
   "outputs": [
    {
     "name": "stdout",
     "output_type": "stream",
     "text": [
      "Length of the literature: 52424\n"
     ]
    }
   ],
   "source": [
    "text=''\n",
    "for i in nazams_pruned['text']:\n",
    "    #Creating the dataset\n",
    "    text=text+i\n",
    "print(\"Length of the literature:\",len(text))"
   ]
  },
  {
   "cell_type": "code",
   "execution_count": 13,
   "metadata": {
    "collapsed": true
   },
   "outputs": [],
   "source": [
    "new_text=''\n",
    "for i in nazams_pruned['text']:\n",
    "    #Finding the longest line in the literature\n",
    "    for j in i.split('\\n'):\n",
    "        if(len(j)<=2):\n",
    "            continue\n",
    "        j=j.strip()\n",
    "        j=j.ljust(longest-1, ' ')\n",
    "        j=j+'\\n'\n",
    "        new_text=new_text+j\n",
    "nazams_final=new_text"
   ]
  },
  {
   "cell_type": "code",
   "execution_count": 14,
   "metadata": {
    "collapsed": true
   },
   "outputs": [],
   "source": [
    "nazams_final = nazams_final.replace(\"'\", \"\")"
   ]
  },
  {
   "cell_type": "code",
   "execution_count": 15,
   "metadata": {
    "collapsed": true
   },
   "outputs": [],
   "source": [
    "nazams_final = nazams_final.replace(\"(1)\", \"\")\n",
    "nazams_final = nazams_final.replace(\"(۲)\", \"\")"
   ]
  },
  {
   "cell_type": "code",
   "execution_count": null,
   "metadata": {
    "scrolled": true
   },
   "outputs": [],
   "source": [
    "for i in nazams_final.split('\\n'):\n",
    "    print(i)"
   ]
  },
  {
   "cell_type": "code",
   "execution_count": 17,
   "metadata": {},
   "outputs": [
    {
     "name": "stdout",
     "output_type": "stream",
     "text": [
      "total chars: 52\n"
     ]
    }
   ],
   "source": [
    "#Finding unique characters\n",
    "chars = sorted(list(set(nazams_final+ghazals_final)))\n",
    "print('total chars:', len(chars))\n",
    "char_indices = dict((c, i) for i, c in enumerate(chars))\n",
    "indices_char = dict((i, c) for i, c in enumerate(chars))"
   ]
  },
  {
   "cell_type": "code",
   "execution_count": 18,
   "metadata": {
    "scrolled": true
   },
   "outputs": [
    {
     "data": {
      "text/plain": [
       "['\\n',\n",
       " ' ',\n",
       " '!',\n",
       " '،',\n",
       " 'ؔ',\n",
       " '؟',\n",
       " 'ء',\n",
       " 'آ',\n",
       " 'ؤ',\n",
       " 'ئ',\n",
       " 'ا',\n",
       " 'ب',\n",
       " 'ت',\n",
       " 'ث',\n",
       " 'ج',\n",
       " 'ح',\n",
       " 'خ',\n",
       " 'د',\n",
       " 'ذ',\n",
       " 'ر',\n",
       " 'ز',\n",
       " 'س',\n",
       " 'ش',\n",
       " 'ص',\n",
       " 'ض',\n",
       " 'ط',\n",
       " 'ظ',\n",
       " 'ع',\n",
       " 'غ',\n",
       " 'ف',\n",
       " 'ق',\n",
       " 'ل',\n",
       " 'م',\n",
       " 'ن',\n",
       " 'و',\n",
       " 'ٓ',\n",
       " 'ٔ',\n",
       " 'ٰ',\n",
       " 'ٹ',\n",
       " 'پ',\n",
       " 'چ',\n",
       " 'ڈ',\n",
       " 'ڑ',\n",
       " 'ک',\n",
       " 'گ',\n",
       " 'ں',\n",
       " 'ھ',\n",
       " 'ہ',\n",
       " 'ۂ',\n",
       " 'ی',\n",
       " 'ے',\n",
       " '۔']"
      ]
     },
     "execution_count": 18,
     "metadata": {},
     "output_type": "execute_result"
    }
   ],
   "source": [
    "chars"
   ]
  },
  {
   "cell_type": "code",
   "execution_count": 19,
   "metadata": {},
   "outputs": [
    {
     "data": {
      "text/plain": [
       "169462"
      ]
     },
     "execution_count": 19,
     "metadata": {},
     "output_type": "execute_result"
    }
   ],
   "source": [
    "len(ghazals_final+nazams_final)"
   ]
  },
  {
   "cell_type": "code",
   "execution_count": 20,
   "metadata": {
    "collapsed": true
   },
   "outputs": [],
   "source": [
    "final_text=ghazals_final+nazams_final"
   ]
  },
  {
   "cell_type": "code",
   "execution_count": 21,
   "metadata": {},
   "outputs": [
    {
     "name": "stdout",
     "output_type": "stream",
     "text": [
      "nb sequences: 1345\n",
      "Vectorization...\n"
     ]
    }
   ],
   "source": [
    "# cut the text in semi-redundant sequences of maxlen characters\n",
    "maxlen = longest\n",
    "step = longest\n",
    "sentences = []\n",
    "next_chars = []\n",
    "\n",
    "for i in range(0, len(final_text) - maxlen, step+step):\n",
    "    sentences.append(final_text[i: i + maxlen])\n",
    "    next_chars.append(final_text[i + maxlen:i+maxlen + maxlen])\n",
    "\n",
    "print('nb sequences:', len(sentences))\n",
    "\n",
    "print('Vectorization...')\n",
    "x = np.zeros((len(sentences), maxlen, len(chars)), dtype=np.bool)\n",
    "y = np.zeros((len(sentences), maxlen, len(chars)), dtype=np.bool)\n",
    "\n",
    "for i, sentence in enumerate(sentences):\n",
    "    for t, char in enumerate(sentence):\n",
    "        x[i, t, char_indices[char]] = 1\n",
    "        \n",
    "        \n",
    "for i, sentence in enumerate(next_chars):    \n",
    "    for t,char in enumerate(sentence):\n",
    "        y[i,t, char_indices[char]] = 1\n",
    "\n"
   ]
  },
  {
   "cell_type": "code",
   "execution_count": 22,
   "metadata": {},
   "outputs": [
    {
     "name": "stdout",
     "output_type": "stream",
     "text": [
      "[[0 0 0 ... 0 0 0]\n",
      " [0 0 0 ... 0 0 0]\n",
      " [0 0 0 ... 0 0 0]\n",
      " ...\n",
      " [0 1 0 ... 0 0 0]\n",
      " [0 1 0 ... 0 0 0]\n",
      " [1 0 0 ... 0 0 0]]\n"
     ]
    }
   ],
   "source": [
    "print(x[0].astype(int))"
   ]
  },
  {
   "cell_type": "code",
   "execution_count": 23,
   "metadata": {},
   "outputs": [
    {
     "name": "stdout",
     "output_type": "stream",
     "text": [
      "[[0 0 0 ... 0 0 0]\n",
      " [0 0 0 ... 0 0 0]\n",
      " [0 0 0 ... 0 0 0]\n",
      " ...\n",
      " [0 1 0 ... 0 0 0]\n",
      " [0 1 0 ... 0 0 0]\n",
      " [1 0 0 ... 0 0 0]]\n"
     ]
    }
   ],
   "source": [
    "print(y[0].astype(int))"
   ]
  },
  {
   "cell_type": "code",
   "execution_count": 24,
   "metadata": {},
   "outputs": [
    {
     "data": {
      "text/plain": [
       "(1345, 63, 52)"
      ]
     },
     "execution_count": 24,
     "metadata": {},
     "output_type": "execute_result"
    }
   ],
   "source": [
    "x.shape"
   ]
  },
  {
   "cell_type": "code",
   "execution_count": 25,
   "metadata": {},
   "outputs": [
    {
     "data": {
      "text/plain": [
       "(1345, 63, 52)"
      ]
     },
     "execution_count": 25,
     "metadata": {},
     "output_type": "execute_result"
    }
   ],
   "source": [
    "y.shape"
   ]
  },
  {
   "cell_type": "code",
   "execution_count": 26,
   "metadata": {
    "collapsed": true
   },
   "outputs": [],
   "source": [
    "dense_dim=y.shape[1]*y.shape[2]\n"
   ]
  },
  {
   "cell_type": "code",
   "execution_count": 28,
   "metadata": {
    "collapsed": true
   },
   "outputs": [],
   "source": [
    "from keras.layers import Reshape,Dropout\n",
    "from keras.callbacks import ModelCheckpoint\n",
    "#Model callbacks\n",
    "filepath=\"faiz--cnn-256-{val_loss:.5f}.hdf5\"\n",
    "checkpoint = ModelCheckpoint(filepath, monitor='val_loss', verbose=2, save_best_only=True, mode='min',save_weights_only=True)\n",
    "callbacks_list = [checkpoint]\n"
   ]
  },
  {
   "cell_type": "code",
   "execution_count": 39,
   "metadata": {
    "scrolled": true
   },
   "outputs": [
    {
     "name": "stdout",
     "output_type": "stream",
     "text": [
      "Build model...\n",
      "_________________________________________________________________\n",
      "Layer (type)                 Output Shape              Param #   \n",
      "=================================================================\n",
      "conv1d_19 (Conv1D)           (None, 63, 256)           26880     \n",
      "_________________________________________________________________\n",
      "dropout_13 (Dropout)         (None, 63, 256)           0         \n",
      "_________________________________________________________________\n",
      "conv1d_20 (Conv1D)           (None, 63, 256)           131328    \n",
      "_________________________________________________________________\n",
      "dropout_14 (Dropout)         (None, 63, 256)           0         \n",
      "_________________________________________________________________\n",
      "conv1d_21 (Conv1D)           (None, 63, 256)           131328    \n",
      "_________________________________________________________________\n",
      "dropout_15 (Dropout)         (None, 63, 256)           0         \n",
      "_________________________________________________________________\n",
      "conv1d_22 (Conv1D)           (None, 63, 52)            26676     \n",
      "_________________________________________________________________\n",
      "activation_6 (Activation)    (None, 63, 52)            0         \n",
      "=================================================================\n",
      "Total params: 316,212\n",
      "Trainable params: 316,212\n",
      "Non-trainable params: 0\n",
      "_________________________________________________________________\n"
     ]
    }
   ],
   "source": [
    "# build the model: a single LSTM\n",
    "print('Build model...')\n",
    "model = Sequential()\n",
    "model.add(Conv1D(256,kernel_size=2,padding='same',input_shape=(maxlen, len(chars))))\n",
    "model.add(Dropout(0.3))\n",
    "model.add(Conv1D(256,kernel_size=2,padding='same'))\n",
    "model.add(Dropout(0.3))\n",
    "model.add(Conv1D(256,kernel_size=2,padding='same'))\n",
    "model.add(Dropout(0.3))\n",
    "model.add(Conv1D(52,kernel_size=2,padding='same'))\n",
    "\n",
    "# model.add(Reshape((maxlen, len(chars))))\n",
    "model.add(Activation('sigmoid'))\n",
    "optimizer = Adamax(lr=0.01)\n",
    "model.compile(loss='binary_crossentropy', optimizer=optimizer)\n",
    "model.summary()"
   ]
  },
  {
   "cell_type": "code",
   "execution_count": 40,
   "metadata": {
    "scrolled": true
   },
   "outputs": [
    {
     "name": "stdout",
     "output_type": "stream",
     "text": [
      "Train on 1076 samples, validate on 269 samples\n",
      "Epoch 1/100\n",
      " 960/1076 [=========================>....] - ETA: 0s - loss: 0.1833Epoch 00001: val_loss improved from inf to 0.08184, saving model to faiz--cnn-256-0.08184.hdf5\n",
      "1076/1076 [==============================] - 4s 4ms/step - loss: 0.1725 - val_loss: 0.0818\n",
      "Epoch 2/100\n",
      " 960/1076 [=========================>....] - ETA: 0s - loss: 0.0615Epoch 00002: val_loss improved from 0.08184 to 0.05035, saving model to faiz--cnn-256-0.05035.hdf5\n",
      "1076/1076 [==============================] - 0s 432us/step - loss: 0.0603 - val_loss: 0.0504\n",
      "Epoch 3/100\n",
      " 960/1076 [=========================>....] - ETA: 0s - loss: 0.0492Epoch 00003: val_loss improved from 0.05035 to 0.04631, saving model to faiz--cnn-256-0.04631.hdf5\n",
      "1076/1076 [==============================] - 0s 379us/step - loss: 0.0491 - val_loss: 0.0463\n",
      "Epoch 4/100\n",
      "1024/1076 [===========================>..] - ETA: 0s - loss: 0.0469Epoch 00004: val_loss improved from 0.04631 to 0.04476, saving model to faiz--cnn-256-0.04476.hdf5\n",
      "1076/1076 [==============================] - 0s 388us/step - loss: 0.0468 - val_loss: 0.0448\n",
      "Epoch 5/100\n",
      "1024/1076 [===========================>..] - ETA: 0s - loss: 0.0455Epoch 00005: val_loss improved from 0.04476 to 0.04381, saving model to faiz--cnn-256-0.04381.hdf5\n",
      "1076/1076 [==============================] - 0s 386us/step - loss: 0.0456 - val_loss: 0.0438\n",
      "Epoch 6/100\n",
      " 960/1076 [=========================>....] - ETA: 0s - loss: 0.0448Epoch 00006: val_loss improved from 0.04381 to 0.04343, saving model to faiz--cnn-256-0.04343.hdf5\n",
      "1076/1076 [==============================] - 0s 405us/step - loss: 0.0448 - val_loss: 0.0434\n",
      "Epoch 7/100\n",
      " 896/1076 [=======================>......] - ETA: 0s - loss: 0.0444Epoch 00007: val_loss improved from 0.04343 to 0.04316, saving model to faiz--cnn-256-0.04316.hdf5\n",
      "1076/1076 [==============================] - 0s 428us/step - loss: 0.0444 - val_loss: 0.0432\n",
      "Epoch 8/100\n",
      "1024/1076 [===========================>..] - ETA: 0s - loss: 0.0441Epoch 00008: val_loss improved from 0.04316 to 0.04302, saving model to faiz--cnn-256-0.04302.hdf5\n",
      "1076/1076 [==============================] - 1s 487us/step - loss: 0.0442 - val_loss: 0.0430\n",
      "Epoch 9/100\n",
      " 960/1076 [=========================>....] - ETA: 0s - loss: 0.0439Epoch 00009: val_loss improved from 0.04302 to 0.04294, saving model to faiz--cnn-256-0.04294.hdf5\n",
      "1076/1076 [==============================] - 1s 517us/step - loss: 0.0440 - val_loss: 0.0429\n",
      "Epoch 10/100\n",
      "1024/1076 [===========================>..] - ETA: 0s - loss: 0.0437Epoch 00010: val_loss improved from 0.04294 to 0.04284, saving model to faiz--cnn-256-0.04284.hdf5\n",
      "1076/1076 [==============================] - 0s 414us/step - loss: 0.0438 - val_loss: 0.0428\n",
      "Epoch 11/100\n",
      " 960/1076 [=========================>....] - ETA: 0s - loss: 0.0438Epoch 00011: val_loss improved from 0.04284 to 0.04282, saving model to faiz--cnn-256-0.04282.hdf5\n",
      "1076/1076 [==============================] - 0s 441us/step - loss: 0.0437 - val_loss: 0.0428\n",
      "Epoch 12/100\n",
      " 960/1076 [=========================>....] - ETA: 0s - loss: 0.0438Epoch 00012: val_loss improved from 0.04282 to 0.04277, saving model to faiz--cnn-256-0.04277.hdf5\n",
      "1076/1076 [==============================] - 0s 410us/step - loss: 0.0436 - val_loss: 0.0428\n",
      "Epoch 13/100\n",
      " 960/1076 [=========================>....] - ETA: 0s - loss: 0.0435Epoch 00013: val_loss improved from 0.04277 to 0.04275, saving model to faiz--cnn-256-0.04275.hdf5\n",
      "1076/1076 [==============================] - 0s 413us/step - loss: 0.0435 - val_loss: 0.0427\n",
      "Epoch 14/100\n",
      " 960/1076 [=========================>....] - ETA: 0s - loss: 0.0434Epoch 00014: val_loss improved from 0.04275 to 0.04267, saving model to faiz--cnn-256-0.04267.hdf5\n",
      "1076/1076 [==============================] - 0s 424us/step - loss: 0.0434 - val_loss: 0.0427\n",
      "Epoch 15/100\n",
      "1024/1076 [===========================>..] - ETA: 0s - loss: 0.0434Epoch 00015: val_loss did not improve\n",
      "1076/1076 [==============================] - 0s 408us/step - loss: 0.0434 - val_loss: 0.0428\n",
      "Epoch 16/100\n",
      "1024/1076 [===========================>..] - ETA: 0s - loss: 0.0434Epoch 00016: val_loss improved from 0.04267 to 0.04266, saving model to faiz--cnn-256-0.04266.hdf5\n",
      "1076/1076 [==============================] - 1s 479us/step - loss: 0.0433 - val_loss: 0.0427\n",
      "Epoch 17/100\n",
      " 960/1076 [=========================>....] - ETA: 0s - loss: 0.0432Epoch 00017: val_loss did not improve\n",
      "1076/1076 [==============================] - 0s 391us/step - loss: 0.0433 - val_loss: 0.0427\n",
      "Epoch 18/100\n",
      " 960/1076 [=========================>....] - ETA: 0s - loss: 0.0433Epoch 00018: val_loss improved from 0.04266 to 0.04264, saving model to faiz--cnn-256-0.04264.hdf5\n",
      "1076/1076 [==============================] - 0s 413us/step - loss: 0.0432 - val_loss: 0.0426\n",
      "Epoch 19/100\n",
      " 960/1076 [=========================>....] - ETA: 0s - loss: 0.0433Epoch 00019: val_loss did not improve\n",
      "1076/1076 [==============================] - 0s 389us/step - loss: 0.0431 - val_loss: 0.0427\n",
      "Epoch 20/100\n",
      "1024/1076 [===========================>..] - ETA: 0s - loss: 0.0432Epoch 00020: val_loss did not improve\n",
      "1076/1076 [==============================] - 0s 372us/step - loss: 0.0432 - val_loss: 0.0426\n",
      "Epoch 21/100\n",
      " 960/1076 [=========================>....] - ETA: 0s - loss: 0.0430Epoch 00021: val_loss improved from 0.04264 to 0.04257, saving model to faiz--cnn-256-0.04257.hdf5\n",
      "1076/1076 [==============================] - 0s 417us/step - loss: 0.0431 - val_loss: 0.0426\n",
      "Epoch 22/100\n",
      " 960/1076 [=========================>....] - ETA: 0s - loss: 0.0431Epoch 00022: val_loss improved from 0.04257 to 0.04256, saving model to faiz--cnn-256-0.04256.hdf5\n",
      "1076/1076 [==============================] - 1s 475us/step - loss: 0.0431 - val_loss: 0.0426\n",
      "Epoch 23/100\n",
      " 960/1076 [=========================>....] - ETA: 0s - loss: 0.0430Epoch 00023: val_loss did not improve\n",
      "1076/1076 [==============================] - 0s 379us/step - loss: 0.0431 - val_loss: 0.0426\n",
      "Epoch 24/100\n",
      " 960/1076 [=========================>....] - ETA: 0s - loss: 0.0431Epoch 00024: val_loss did not improve\n",
      "1076/1076 [==============================] - 0s 387us/step - loss: 0.0430 - val_loss: 0.0426\n",
      "Epoch 25/100\n",
      " 960/1076 [=========================>....] - ETA: 0s - loss: 0.0431Epoch 00025: val_loss did not improve\n",
      "1076/1076 [==============================] - 0s 394us/step - loss: 0.0429 - val_loss: 0.0426\n",
      "Epoch 26/100\n",
      "1024/1076 [===========================>..] - ETA: 0s - loss: 0.0430Epoch 00026: val_loss did not improve\n",
      "1076/1076 [==============================] - 0s 363us/step - loss: 0.0430 - val_loss: 0.0426\n",
      "Epoch 27/100\n",
      "1024/1076 [===========================>..] - ETA: 0s - loss: 0.0427Epoch 00027: val_loss improved from 0.04256 to 0.04253, saving model to faiz--cnn-256-0.04253.hdf5\n",
      "1076/1076 [==============================] - 0s 378us/step - loss: 0.0429 - val_loss: 0.0425\n",
      "Epoch 28/100\n",
      "1024/1076 [===========================>..] - ETA: 0s - loss: 0.0428Epoch 00028: val_loss did not improve\n",
      "1076/1076 [==============================] - 0s 377us/step - loss: 0.0429 - val_loss: 0.0426\n",
      "Epoch 29/100\n",
      "1024/1076 [===========================>..] - ETA: 0s - loss: 0.0430Epoch 00029: val_loss did not improve\n",
      "1076/1076 [==============================] - 0s 381us/step - loss: 0.0428 - val_loss: 0.0426\n",
      "Epoch 30/100\n",
      " 896/1076 [=======================>......] - ETA: 0s - loss: 0.0428Epoch 00030: val_loss did not improve\n",
      "1076/1076 [==============================] - 0s 404us/step - loss: 0.0428 - val_loss: 0.0426\n",
      "Epoch 31/100\n",
      " 960/1076 [=========================>....] - ETA: 0s - loss: 0.0428Epoch 00031: val_loss improved from 0.04253 to 0.04250, saving model to faiz--cnn-256-0.04250.hdf5\n",
      "1076/1076 [==============================] - 0s 418us/step - loss: 0.0428 - val_loss: 0.0425\n",
      "Epoch 32/100\n",
      " 960/1076 [=========================>....] - ETA: 0s - loss: 0.0428Epoch 00032: val_loss did not improve\n",
      "1076/1076 [==============================] - 0s 398us/step - loss: 0.0428 - val_loss: 0.0426\n",
      "Epoch 33/100\n",
      " 896/1076 [=======================>......] - ETA: 0s - loss: 0.0427Epoch 00033: val_loss improved from 0.04250 to 0.04250, saving model to faiz--cnn-256-0.04250.hdf5\n",
      "1076/1076 [==============================] - 1s 477us/step - loss: 0.0427 - val_loss: 0.0425\n"
     ]
    },
    {
     "name": "stdout",
     "output_type": "stream",
     "text": [
      "Epoch 34/100\n",
      " 896/1076 [=======================>......] - ETA: 0s - loss: 0.0426Epoch 00034: val_loss did not improve\n",
      "1076/1076 [==============================] - 0s 389us/step - loss: 0.0427 - val_loss: 0.0425\n",
      "Epoch 35/100\n",
      " 896/1076 [=======================>......] - ETA: 0s - loss: 0.0426Epoch 00035: val_loss improved from 0.04250 to 0.04250, saving model to faiz--cnn-256-0.04250.hdf5\n",
      "1076/1076 [==============================] - 0s 414us/step - loss: 0.0427 - val_loss: 0.0425\n",
      "Epoch 36/100\n",
      " 896/1076 [=======================>......] - ETA: 0s - loss: 0.0426Epoch 00036: val_loss did not improve\n",
      "1076/1076 [==============================] - 0s 354us/step - loss: 0.0427 - val_loss: 0.0425\n",
      "Epoch 37/100\n",
      "1024/1076 [===========================>..] - ETA: 0s - loss: 0.0427Epoch 00037: val_loss did not improve\n",
      "1076/1076 [==============================] - 0s 370us/step - loss: 0.0427 - val_loss: 0.0426\n",
      "Epoch 38/100\n",
      " 896/1076 [=======================>......] - ETA: 0s - loss: 0.0428Epoch 00038: val_loss did not improve\n",
      "1076/1076 [==============================] - 0s 406us/step - loss: 0.0426 - val_loss: 0.0426\n",
      "Epoch 39/100\n",
      " 960/1076 [=========================>....] - ETA: 0s - loss: 0.0427Epoch 00039: val_loss did not improve\n",
      "1076/1076 [==============================] - 0s 408us/step - loss: 0.0426 - val_loss: 0.0426\n",
      "Epoch 40/100\n",
      "1024/1076 [===========================>..] - ETA: 0s - loss: 0.0426Epoch 00040: val_loss did not improve\n",
      "1076/1076 [==============================] - 0s 375us/step - loss: 0.0426 - val_loss: 0.0425\n",
      "Epoch 41/100\n",
      " 960/1076 [=========================>....] - ETA: 0s - loss: 0.0425Epoch 00041: val_loss did not improve\n",
      "1076/1076 [==============================] - 0s 379us/step - loss: 0.0426 - val_loss: 0.0426\n",
      "Epoch 42/100\n",
      " 896/1076 [=======================>......] - ETA: 0s - loss: 0.0427Epoch 00042: val_loss did not improve\n",
      "1076/1076 [==============================] - 0s 379us/step - loss: 0.0426 - val_loss: 0.0426\n",
      "Epoch 43/100\n",
      "1024/1076 [===========================>..] - ETA: 0s - loss: 0.0426Epoch 00043: val_loss did not improve\n",
      "1076/1076 [==============================] - 0s 388us/step - loss: 0.0425 - val_loss: 0.0426\n",
      "Epoch 44/100\n",
      " 896/1076 [=======================>......] - ETA: 0s - loss: 0.0425Epoch 00044: val_loss did not improve\n",
      "1076/1076 [==============================] - 0s 384us/step - loss: 0.0425 - val_loss: 0.0426\n",
      "Epoch 45/100\n",
      "1024/1076 [===========================>..] - ETA: 0s - loss: 0.0424Epoch 00045: val_loss did not improve\n",
      "1076/1076 [==============================] - 0s 406us/step - loss: 0.0425 - val_loss: 0.0426\n",
      "Epoch 46/100\n",
      " 896/1076 [=======================>......] - ETA: 0s - loss: 0.0428Epoch 00046: val_loss did not improve\n",
      "1076/1076 [==============================] - 0s 411us/step - loss: 0.0425 - val_loss: 0.0426\n",
      "Epoch 47/100\n",
      " 960/1076 [=========================>....] - ETA: 0s - loss: 0.0423Epoch 00047: val_loss did not improve\n",
      "1076/1076 [==============================] - 0s 391us/step - loss: 0.0425 - val_loss: 0.0425\n",
      "Epoch 48/100\n",
      " 960/1076 [=========================>....] - ETA: 0s - loss: 0.0425Epoch 00048: val_loss did not improve\n",
      "1076/1076 [==============================] - 0s 381us/step - loss: 0.0425 - val_loss: 0.0427\n",
      "Epoch 49/100\n",
      " 960/1076 [=========================>....] - ETA: 0s - loss: 0.0427Epoch 00049: val_loss did not improve\n",
      "1076/1076 [==============================] - 0s 381us/step - loss: 0.0425 - val_loss: 0.0425\n",
      "Epoch 50/100\n",
      " 896/1076 [=======================>......] - ETA: 0s - loss: 0.0422Epoch 00050: val_loss did not improve\n",
      "1076/1076 [==============================] - 0s 371us/step - loss: 0.0425 - val_loss: 0.0425\n",
      "Epoch 51/100\n",
      " 896/1076 [=======================>......] - ETA: 0s - loss: 0.0423Epoch 00051: val_loss did not improve\n",
      "1076/1076 [==============================] - 0s 400us/step - loss: 0.0424 - val_loss: 0.0425\n",
      "Epoch 52/100\n",
      " 960/1076 [=========================>....] - ETA: 0s - loss: 0.0425Epoch 00052: val_loss did not improve\n",
      "1076/1076 [==============================] - 0s 401us/step - loss: 0.0424 - val_loss: 0.0426\n",
      "Epoch 53/100\n",
      " 896/1076 [=======================>......] - ETA: 0s - loss: 0.0424Epoch 00053: val_loss did not improve\n",
      "1076/1076 [==============================] - 0s 414us/step - loss: 0.0424 - val_loss: 0.0426\n",
      "Epoch 54/100\n",
      " 960/1076 [=========================>....] - ETA: 0s - loss: 0.0423Epoch 00054: val_loss did not improve\n",
      "1076/1076 [==============================] - 0s 384us/step - loss: 0.0424 - val_loss: 0.0426\n",
      "Epoch 55/100\n",
      " 960/1076 [=========================>....] - ETA: 0s - loss: 0.0423Epoch 00055: val_loss did not improve\n",
      "1076/1076 [==============================] - 0s 390us/step - loss: 0.0424 - val_loss: 0.0426\n",
      "Epoch 56/100\n",
      " 960/1076 [=========================>....] - ETA: 0s - loss: 0.0425Epoch 00056: val_loss did not improve\n",
      "1076/1076 [==============================] - 0s 387us/step - loss: 0.0424 - val_loss: 0.0427\n",
      "Epoch 57/100\n",
      "1024/1076 [===========================>..] - ETA: 0s - loss: 0.0423Epoch 00057: val_loss did not improve\n",
      "1076/1076 [==============================] - 0s 405us/step - loss: 0.0424 - val_loss: 0.0426\n",
      "Epoch 58/100\n",
      "1024/1076 [===========================>..] - ETA: 0s - loss: 0.0424Epoch 00058: val_loss did not improve\n",
      "1076/1076 [==============================] - 0s 380us/step - loss: 0.0424 - val_loss: 0.0426\n",
      "Epoch 59/100\n",
      " 960/1076 [=========================>....] - ETA: 0s - loss: 0.0422Epoch 00059: val_loss did not improve\n",
      "1076/1076 [==============================] - 0s 400us/step - loss: 0.0424 - val_loss: 0.0426\n",
      "Epoch 60/100\n",
      " 960/1076 [=========================>....] - ETA: 0s - loss: 0.0425Epoch 00060: val_loss did not improve\n",
      "1076/1076 [==============================] - 0s 385us/step - loss: 0.0424 - val_loss: 0.0426\n",
      "Epoch 61/100\n",
      " 960/1076 [=========================>....] - ETA: 0s - loss: 0.0422Epoch 00061: val_loss did not improve\n",
      "1076/1076 [==============================] - 0s 388us/step - loss: 0.0423 - val_loss: 0.0425\n",
      "Epoch 62/100\n",
      " 896/1076 [=======================>......] - ETA: 0s - loss: 0.0423Epoch 00062: val_loss did not improve\n",
      "1076/1076 [==============================] - 0s 386us/step - loss: 0.0423 - val_loss: 0.0426\n",
      "Epoch 63/100\n",
      "1024/1076 [===========================>..] - ETA: 0s - loss: 0.0422Epoch 00063: val_loss did not improve\n",
      "1076/1076 [==============================] - 0s 379us/step - loss: 0.0423 - val_loss: 0.0426\n",
      "Epoch 64/100\n",
      "1024/1076 [===========================>..] - ETA: 0s - loss: 0.0422Epoch 00064: val_loss did not improve\n",
      "1076/1076 [==============================] - 0s 375us/step - loss: 0.0423 - val_loss: 0.0426\n",
      "Epoch 65/100\n",
      "1024/1076 [===========================>..] - ETA: 0s - loss: 0.0423Epoch 00065: val_loss did not improve\n",
      "1076/1076 [==============================] - 0s 382us/step - loss: 0.0422 - val_loss: 0.0426\n",
      "Epoch 66/100\n",
      "1024/1076 [===========================>..] - ETA: 0s - loss: 0.0422Epoch 00066: val_loss did not improve\n",
      "1076/1076 [==============================] - 0s 399us/step - loss: 0.0422 - val_loss: 0.0425\n",
      "Epoch 67/100\n",
      " 896/1076 [=======================>......] - ETA: 0s - loss: 0.0421Epoch 00067: val_loss did not improve\n",
      "1076/1076 [==============================] - 0s 371us/step - loss: 0.0422 - val_loss: 0.0427\n",
      "Epoch 68/100\n",
      " 960/1076 [=========================>....] - ETA: 0s - loss: 0.0422Epoch 00068: val_loss did not improve\n",
      "1076/1076 [==============================] - 0s 379us/step - loss: 0.0422 - val_loss: 0.0426\n",
      "Epoch 69/100\n",
      " 960/1076 [=========================>....] - ETA: 0s - loss: 0.0420Epoch 00069: val_loss did not improve\n",
      "1076/1076 [==============================] - 0s 390us/step - loss: 0.0422 - val_loss: 0.0426\n",
      "Epoch 70/100\n",
      "1024/1076 [===========================>..] - ETA: 0s - loss: 0.0421Epoch 00070: val_loss did not improve\n",
      "1076/1076 [==============================] - 0s 378us/step - loss: 0.0422 - val_loss: 0.0427\n",
      "Epoch 71/100\n",
      " 960/1076 [=========================>....] - ETA: 0s - loss: 0.0423Epoch 00071: val_loss did not improve\n",
      "1076/1076 [==============================] - 0s 385us/step - loss: 0.0422 - val_loss: 0.0426\n",
      "Epoch 72/100\n",
      " 896/1076 [=======================>......] - ETA: 0s - loss: 0.0421Epoch 00072: val_loss did not improve\n",
      "1076/1076 [==============================] - 0s 398us/step - loss: 0.0422 - val_loss: 0.0427\n"
     ]
    },
    {
     "name": "stdout",
     "output_type": "stream",
     "text": [
      "Epoch 73/100\n",
      "1024/1076 [===========================>..] - ETA: 0s - loss: 0.0422Epoch 00073: val_loss did not improve\n",
      "1076/1076 [==============================] - 0s 378us/step - loss: 0.0421 - val_loss: 0.0426\n",
      "Epoch 74/100\n",
      " 960/1076 [=========================>....] - ETA: 0s - loss: 0.0423Epoch 00074: val_loss did not improve\n",
      "1076/1076 [==============================] - 0s 381us/step - loss: 0.0422 - val_loss: 0.0427\n",
      "Epoch 75/100\n",
      " 960/1076 [=========================>....] - ETA: 0s - loss: 0.0423Epoch 00075: val_loss did not improve\n",
      "1076/1076 [==============================] - 0s 375us/step - loss: 0.0422 - val_loss: 0.0427\n",
      "Epoch 76/100\n",
      " 960/1076 [=========================>....] - ETA: 0s - loss: 0.0421Epoch 00076: val_loss did not improve\n",
      "1076/1076 [==============================] - 0s 387us/step - loss: 0.0421 - val_loss: 0.0426\n",
      "Epoch 77/100\n",
      " 896/1076 [=======================>......] - ETA: 0s - loss: 0.0420Epoch 00077: val_loss did not improve\n",
      "1076/1076 [==============================] - 0s 398us/step - loss: 0.0421 - val_loss: 0.0426\n",
      "Epoch 78/100\n",
      " 896/1076 [=======================>......] - ETA: 0s - loss: 0.0420Epoch 00078: val_loss did not improve\n",
      "1076/1076 [==============================] - 0s 376us/step - loss: 0.0421 - val_loss: 0.0427\n",
      "Epoch 79/100\n",
      "1024/1076 [===========================>..] - ETA: 0s - loss: 0.0421Epoch 00079: val_loss did not improve\n",
      "1076/1076 [==============================] - 0s 386us/step - loss: 0.0421 - val_loss: 0.0426\n",
      "Epoch 80/100\n",
      " 960/1076 [=========================>....] - ETA: 0s - loss: 0.0423Epoch 00080: val_loss did not improve\n",
      "1076/1076 [==============================] - 0s 375us/step - loss: 0.0422 - val_loss: 0.0429\n",
      "Epoch 81/100\n",
      " 960/1076 [=========================>....] - ETA: 0s - loss: 0.0421Epoch 00081: val_loss did not improve\n",
      "1076/1076 [==============================] - 0s 384us/step - loss: 0.0421 - val_loss: 0.0426\n",
      "Epoch 82/100\n",
      " 896/1076 [=======================>......] - ETA: 0s - loss: 0.0420Epoch 00082: val_loss did not improve\n",
      "1076/1076 [==============================] - 0s 383us/step - loss: 0.0421 - val_loss: 0.0427\n",
      "Epoch 83/100\n",
      " 960/1076 [=========================>....] - ETA: 0s - loss: 0.0423Epoch 00083: val_loss did not improve\n",
      "1076/1076 [==============================] - 0s 375us/step - loss: 0.0421 - val_loss: 0.0427\n",
      "Epoch 84/100\n",
      "1024/1076 [===========================>..] - ETA: 0s - loss: 0.0422Epoch 00084: val_loss did not improve\n",
      "1076/1076 [==============================] - 0s 380us/step - loss: 0.0420 - val_loss: 0.0426\n",
      "Epoch 85/100\n",
      "1024/1076 [===========================>..] - ETA: 0s - loss: 0.0421Epoch 00085: val_loss did not improve\n",
      "1076/1076 [==============================] - 0s 358us/step - loss: 0.0421 - val_loss: 0.0427\n",
      "Epoch 86/100\n",
      " 960/1076 [=========================>....] - ETA: 0s - loss: 0.0422Epoch 00086: val_loss did not improve\n",
      "1076/1076 [==============================] - 0s 359us/step - loss: 0.0421 - val_loss: 0.0426\n",
      "Epoch 87/100\n",
      " 960/1076 [=========================>....] - ETA: 0s - loss: 0.0420Epoch 00087: val_loss did not improve\n",
      "1076/1076 [==============================] - 0s 356us/step - loss: 0.0421 - val_loss: 0.0427\n",
      "Epoch 88/100\n",
      " 960/1076 [=========================>....] - ETA: 0s - loss: 0.0422Epoch 00088: val_loss did not improve\n",
      "1076/1076 [==============================] - 0s 356us/step - loss: 0.0420 - val_loss: 0.0427\n",
      "Epoch 89/100\n",
      " 896/1076 [=======================>......] - ETA: 0s - loss: 0.0420Epoch 00089: val_loss did not improve\n",
      "1076/1076 [==============================] - 0s 379us/step - loss: 0.0420 - val_loss: 0.0427\n",
      "Epoch 90/100\n",
      " 960/1076 [=========================>....] - ETA: 0s - loss: 0.0419Epoch 00090: val_loss did not improve\n",
      "1076/1076 [==============================] - 0s 378us/step - loss: 0.0420 - val_loss: 0.0427\n",
      "Epoch 91/100\n",
      "1024/1076 [===========================>..] - ETA: 0s - loss: 0.0421Epoch 00091: val_loss did not improve\n",
      "1076/1076 [==============================] - 0s 381us/step - loss: 0.0420 - val_loss: 0.0428\n",
      "Epoch 92/100\n",
      " 896/1076 [=======================>......] - ETA: 0s - loss: 0.0421Epoch 00092: val_loss did not improve\n",
      "1076/1076 [==============================] - 0s 395us/step - loss: 0.0420 - val_loss: 0.0428\n",
      "Epoch 93/100\n",
      "1024/1076 [===========================>..] - ETA: 0s - loss: 0.0420Epoch 00093: val_loss did not improve\n",
      "1076/1076 [==============================] - 0s 384us/step - loss: 0.0420 - val_loss: 0.0427\n",
      "Epoch 94/100\n",
      " 960/1076 [=========================>....] - ETA: 0s - loss: 0.0421Epoch 00094: val_loss did not improve\n",
      "1076/1076 [==============================] - 0s 384us/step - loss: 0.0421 - val_loss: 0.0429\n",
      "Epoch 95/100\n",
      " 960/1076 [=========================>....] - ETA: 0s - loss: 0.0420Epoch 00095: val_loss did not improve\n",
      "1076/1076 [==============================] - 0s 387us/step - loss: 0.0420 - val_loss: 0.0427\n",
      "Epoch 96/100\n",
      "1024/1076 [===========================>..] - ETA: 0s - loss: 0.0420Epoch 00096: val_loss did not improve\n",
      "1076/1076 [==============================] - 0s 387us/step - loss: 0.0420 - val_loss: 0.0427\n",
      "Epoch 97/100\n",
      "1024/1076 [===========================>..] - ETA: 0s - loss: 0.0420Epoch 00097: val_loss did not improve\n",
      "1076/1076 [==============================] - 0s 395us/step - loss: 0.0420 - val_loss: 0.0427\n",
      "Epoch 98/100\n",
      " 960/1076 [=========================>....] - ETA: 0s - loss: 0.0420Epoch 00098: val_loss did not improve\n",
      "1076/1076 [==============================] - 0s 394us/step - loss: 0.0419 - val_loss: 0.0427\n",
      "Epoch 99/100\n",
      " 960/1076 [=========================>....] - ETA: 0s - loss: 0.0419Epoch 00099: val_loss did not improve\n",
      "1076/1076 [==============================] - 0s 416us/step - loss: 0.0419 - val_loss: 0.0428\n",
      "Epoch 100/100\n",
      " 960/1076 [=========================>....] - ETA: 0s - loss: 0.0420Epoch 00100: val_loss did not improve\n",
      "1076/1076 [==============================] - 0s 375us/step - loss: 0.0419 - val_loss: 0.0428\n"
     ]
    }
   ],
   "source": [
    "history=model.fit(x, y,\n",
    "          batch_size=64,\n",
    "          epochs=100,\n",
    "          validation_split=0.2,callbacks=callbacks_list)"
   ]
  },
  {
   "cell_type": "code",
   "execution_count": 28,
   "metadata": {
    "collapsed": true
   },
   "outputs": [],
   "source": [
    "model.load_weights('faiz-gru-0.03959.hdf5')"
   ]
  },
  {
   "cell_type": "code",
   "execution_count": 41,
   "metadata": {
    "collapsed": true
   },
   "outputs": [],
   "source": [
    "pred=model.predict(x)"
   ]
  },
  {
   "cell_type": "code",
   "execution_count": 42,
   "metadata": {
    "collapsed": true
   },
   "outputs": [],
   "source": [
    "a=x[10]\n",
    "b=pred[10]"
   ]
  },
  {
   "cell_type": "code",
   "execution_count": 43,
   "metadata": {},
   "outputs": [
    {
     "data": {
      "text/plain": [
       "array([[3.59821890e-04, 1.34702191e-01, 3.48691974e-04, ...,\n",
       "        8.18703175e-02, 2.74913423e-02, 3.35998309e-04],\n",
       "       [2.45026051e-04, 1.11425154e-01, 2.57188571e-04, ...,\n",
       "        1.37302637e-01, 5.62129803e-02, 2.39955101e-04],\n",
       "       [2.17079054e-04, 2.09057882e-01, 1.87180121e-04, ...,\n",
       "        7.93236718e-02, 3.66433896e-02, 1.43109966e-04],\n",
       "       ...,\n",
       "       [2.11088845e-04, 3.41324329e-01, 4.37593146e-04, ...,\n",
       "        3.75167020e-02, 2.05364134e-02, 1.00227204e-04],\n",
       "       [1.67911101e-04, 5.67973554e-01, 8.77263228e-05, ...,\n",
       "        3.81039307e-02, 3.74093726e-02, 1.42378067e-05],\n",
       "       [1.26771466e-03, 7.09475219e-01, 4.37989016e-04, ...,\n",
       "        3.21452394e-02, 1.98939200e-02, 2.52456899e-04]], dtype=float32)"
      ]
     },
     "execution_count": 43,
     "metadata": {},
     "output_type": "execute_result"
    }
   ],
   "source": [
    "b"
   ]
  },
  {
   "cell_type": "code",
   "execution_count": 44,
   "metadata": {
    "collapsed": true
   },
   "outputs": [],
   "source": [
    "a=(a == a.max(axis=1, keepdims=True)).astype(int)\n",
    "b=(b == b.max(axis=1, keepdims=True)).astype(int)"
   ]
  },
  {
   "cell_type": "code",
   "execution_count": 45,
   "metadata": {},
   "outputs": [
    {
     "data": {
      "text/plain": [
       "array([[0, 0, 0, ..., 0, 0, 0],\n",
       "       [0, 0, 0, ..., 0, 0, 0],\n",
       "       [0, 1, 0, ..., 0, 0, 0],\n",
       "       ...,\n",
       "       [0, 1, 0, ..., 0, 0, 0],\n",
       "       [0, 1, 0, ..., 0, 0, 0],\n",
       "       [0, 1, 0, ..., 0, 0, 0]])"
      ]
     },
     "execution_count": 45,
     "metadata": {},
     "output_type": "execute_result"
    }
   ],
   "source": [
    "b"
   ]
  },
  {
   "cell_type": "code",
   "execution_count": 46,
   "metadata": {
    "collapsed": true
   },
   "outputs": [],
   "source": [
    "a=a.argmax(axis=1)\n",
    "b=b.argmax(axis=1)"
   ]
  },
  {
   "cell_type": "code",
   "execution_count": 47,
   "metadata": {},
   "outputs": [
    {
     "data": {
      "text/plain": [
       "array([14, 10, 33, 10, 33, 47,  1, 31, 49, 50,  1, 32, 21, 12, 49, 36,  1,\n",
       "       39, 49, 32, 10, 33, 47,  1, 31, 49, 50,  1,  1,  1,  1,  1,  1,  1,\n",
       "        1,  1,  1,  1,  1,  1,  1,  1,  1,  1,  1,  1,  1,  1,  1,  1,  1,\n",
       "        1,  1,  1,  1,  1,  1,  1,  0, 15, 32, 17,  1], dtype=int64)"
      ]
     },
     "execution_count": 47,
     "metadata": {},
     "output_type": "execute_result"
    }
   ],
   "source": [
    "a"
   ]
  },
  {
   "cell_type": "code",
   "execution_count": 48,
   "metadata": {},
   "outputs": [
    {
     "data": {
      "text/plain": [
       "array([10, 10,  1,  1,  1,  1,  1,  1,  1,  1,  1,  1,  1,  1,  1,  1,  1,\n",
       "        1, 10,  1,  1,  1,  1,  1,  1,  1,  1,  1,  1,  1,  1,  1,  1,  1,\n",
       "        1,  1,  1,  1,  1,  1,  1,  1,  1,  1,  1,  1,  1,  1,  1,  1,  1,\n",
       "        1,  1,  1,  1,  1,  1,  1,  0,  1,  1,  1,  1], dtype=int64)"
      ]
     },
     "execution_count": 48,
     "metadata": {},
     "output_type": "execute_result"
    }
   ],
   "source": [
    "b"
   ]
  },
  {
   "cell_type": "code",
   "execution_count": 49,
   "metadata": {
    "scrolled": true
   },
   "outputs": [
    {
     "name": "stdout",
     "output_type": "stream",
     "text": [
      "جانانہ لیے مستیٔ پیمانہ لیے                               \n",
      "حمد \n",
      "اا                ا                                       \n",
      "    \n"
     ]
    }
   ],
   "source": [
    "text=''\n",
    "for i in a:\n",
    "    text=text+indices_char[i]\n",
    "print(text)\n",
    "text=''\n",
    "for i in b:\n",
    "    text=text+indices_char[i]\n",
    "print(text)"
   ]
  },
  {
   "cell_type": "code",
   "execution_count": null,
   "metadata": {
    "collapsed": true
   },
   "outputs": [],
   "source": []
  }
 ],
 "metadata": {
  "kernelspec": {
   "display_name": "Python 3",
   "language": "python",
   "name": "python3"
  },
  "language_info": {
   "codemirror_mode": {
    "name": "ipython",
    "version": 3
   },
   "file_extension": ".py",
   "mimetype": "text/x-python",
   "name": "python",
   "nbconvert_exporter": "python",
   "pygments_lexer": "ipython3",
   "version": "3.6.3"
  }
 },
 "nbformat": 4,
 "nbformat_minor": 2
}
